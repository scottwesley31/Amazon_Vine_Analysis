{
  "nbformat": 4,
  "nbformat_minor": 0,
  "metadata": {
    "colab": {
      "provenance": []
    },
    "kernelspec": {
      "name": "python3",
      "display_name": "Python 3"
    },
    "language_info": {
      "name": "python"
    }
  },
  "cells": [
    {
      "cell_type": "code",
      "execution_count": 1,
      "metadata": {
        "colab": {
          "base_uri": "https://localhost:8080/"
        },
        "id": "0IjLVDDNCLRW",
        "outputId": "798d64ca-d049-4e76-b684-306029563da5"
      },
      "outputs": [
        {
          "output_type": "stream",
          "name": "stdout",
          "text": [
            "\r0% [Working]\r            \rHit:1 http://ppa.launchpad.net/c2d4u.team/c2d4u4.0+/ubuntu bionic InRelease\n",
            "\r0% [Connecting to archive.ubuntu.com] [Connecting to security.ubuntu.com (91.18\r                                                                               \rHit:2 http://ppa.launchpad.net/cran/libgit2/ubuntu bionic InRelease\n",
            "\r0% [Connecting to archive.ubuntu.com] [Connecting to security.ubuntu.com (91.18\r0% [1 InRelease gpgv 15.9 kB] [Connecting to archive.ubuntu.com] [Connecting to\r                                                                               \rHit:3 http://ppa.launchpad.net/deadsnakes/ppa/ubuntu bionic InRelease\n",
            "\r0% [1 InRelease gpgv 15.9 kB] [Connecting to archive.ubuntu.com] [Connecting to\r                                                                               \rGet:4 http://ppa.launchpad.net/graphics-drivers/ppa/ubuntu bionic InRelease [21.3 kB]\n",
            "\r0% [1 InRelease gpgv 15.9 kB] [Connecting to archive.ubuntu.com (91.189.91.38)]\r0% [1 InRelease gpgv 15.9 kB] [Connecting to archive.ubuntu.com (91.189.91.38)]\r                                                                               \rGet:5 https://cloud.r-project.org/bin/linux/ubuntu bionic-cran40/ InRelease [3,626 B]\n",
            "Get:6 http://security.ubuntu.com/ubuntu bionic-security InRelease [88.7 kB]\n",
            "Hit:7 http://archive.ubuntu.com/ubuntu bionic InRelease\n",
            "Ign:8 https://developer.download.nvidia.com/compute/machine-learning/repos/ubuntu1804/x86_64  InRelease\n",
            "Get:9 https://developer.download.nvidia.com/compute/cuda/repos/ubuntu1804/x86_64  InRelease [1,581 B]\n",
            "Hit:10 https://developer.download.nvidia.com/compute/machine-learning/repos/ubuntu1804/x86_64  Release\n",
            "Get:11 http://archive.ubuntu.com/ubuntu bionic-updates InRelease [88.7 kB]\n",
            "Get:12 http://ppa.launchpad.net/graphics-drivers/ppa/ubuntu bionic/main amd64 Packages [48.3 kB]\n",
            "Get:13 http://archive.ubuntu.com/ubuntu bionic-backports InRelease [83.3 kB]\n",
            "Get:14 https://developer.download.nvidia.com/compute/cuda/repos/ubuntu1804/x86_64  Packages [913 kB]\n",
            "Get:16 http://security.ubuntu.com/ubuntu bionic-security/universe amd64 Packages [1,546 kB]\n",
            "Get:17 http://archive.ubuntu.com/ubuntu bionic-updates/universe amd64 Packages [2,323 kB]\n",
            "Get:18 http://security.ubuntu.com/ubuntu bionic-security/main amd64 Packages [2,990 kB]\n",
            "Get:19 http://archive.ubuntu.com/ubuntu bionic-updates/main amd64 Packages [3,422 kB]\n",
            "Fetched 11.5 MB in 3s (3,665 kB/s)\n",
            "Reading package lists... Done\n"
          ]
        }
      ],
      "source": [
        "import os\n",
        "# Find the latest version of spark 3.0 from http://www.apache.org/dist/spark/ and enter as the spark version\n",
        "# For example:\n",
        "# spark_version = 'spark-3.3.0'\n",
        "spark_version = 'spark-3.3.0'\n",
        "os.environ['SPARK_VERSION']=spark_version\n",
        "\n",
        "# Install Spark and Java\n",
        "!apt-get update\n",
        "!apt-get install openjdk-11-jdk-headless -qq > /dev/null\n",
        "!wget -q http://www.apache.org/dist/spark/$SPARK_VERSION/$SPARK_VERSION-bin-hadoop3.tgz\n",
        "!tar xf $SPARK_VERSION-bin-hadoop3.tgz\n",
        "!pip install -q findspark\n",
        "\n",
        "# Set Environment Variables\n",
        "import os\n",
        "os.environ[\"JAVA_HOME\"] = \"/usr/lib/jvm/java-11-openjdk-amd64\"\n",
        "os.environ[\"SPARK_HOME\"] = f\"/content/{spark_version}-bin-hadoop3\"\n",
        "\n",
        "# Start a SparkSession\n",
        "import findspark\n",
        "findspark.init()"
      ]
    },
    {
      "cell_type": "code",
      "source": [
        "# Start Spark session\n",
        "from pyspark.sql import SparkSession\n",
        "spark = SparkSession.builder.appName(\"M16Deliverable2\").getOrCreate()"
      ],
      "metadata": {
        "id": "vyrfC1HBChYq"
      },
      "execution_count": 2,
      "outputs": []
    },
    {
      "cell_type": "code",
      "source": [
        "from pyspark import SparkFiles\n",
        "url = \"https://s3.amazonaws.com/amazon-reviews-pds/tsv/amazon_reviews_us_Musical_Instruments_v1_00.tsv.gz\"\n",
        "spark.sparkContext.addFile(url)\n",
        "df = spark.read.option(\"encoding\", \"UTF-8\").csv(SparkFiles.get(\"amazon_reviews_us_Musical_Instruments_v1_00.tsv.gz\"), sep=\"\\t\", header=True, inferSchema=True)\n",
        "df.show()"
      ],
      "metadata": {
        "colab": {
          "base_uri": "https://localhost:8080/"
        },
        "id": "liOD8s-OCmLB",
        "outputId": "31d0037a-0fef-417d-860b-2c190cd5d77a"
      },
      "execution_count": 3,
      "outputs": [
        {
          "output_type": "stream",
          "name": "stdout",
          "text": [
            "+-----------+-----------+--------------+----------+--------------+--------------------+-------------------+-----------+-------------+-----------+----+-----------------+--------------------+--------------------+-------------------+\n",
            "|marketplace|customer_id|     review_id|product_id|product_parent|       product_title|   product_category|star_rating|helpful_votes|total_votes|vine|verified_purchase|     review_headline|         review_body|        review_date|\n",
            "+-----------+-----------+--------------+----------+--------------+--------------------+-------------------+-----------+-------------+-----------+----+-----------------+--------------------+--------------------+-------------------+\n",
            "|         US|   45610553| RMDCHWD0Y5OZ9|B00HH62VB6|     618218723|AGPtek® 10 Isolat...|Musical Instruments|          3|            0|          1|   N|                N|         Three Stars|Works very good, ...|2015-08-31 00:00:00|\n",
            "|         US|   14640079| RZSL0BALIYUNU|B003LRN53I|     986692292|Sennheiser HD203 ...|Musical Instruments|          5|            0|          0|   N|                Y|          Five Stars|Nice headphones a...|2015-08-31 00:00:00|\n",
            "|         US|    6111003| RIZR67JKUDBI0|B0006VMBHI|     603261968|AudioQuest LP rec...|Musical Instruments|          3|            0|          1|   N|                Y|         Three Stars|removes dust. doe...|2015-08-31 00:00:00|\n",
            "|         US|    1546619|R27HL570VNL85F|B002B55TRG|     575084461|Hohner Inc. 560BX...|Musical Instruments|          5|            0|          0|   N|                Y|I purchase these ...|I purchase these ...|2015-08-31 00:00:00|\n",
            "|         US|   12222213|R34EBU9QDWJ1GD|B00N1YPXW2|     165236328|Blue Yeti USB Mic...|Musical Instruments|          5|            0|          0|   N|                Y|          Five Stars|This is an awesom...|2015-08-31 00:00:00|\n",
            "|         US|   46018513|R1WCUI4Z1SIQEO|B001N4GRGS|     134151483|Middle Atlantic P...|Musical Instruments|          5|            0|          0|   N|                N|          Five Stars|Used to cool equi...|2015-08-31 00:00:00|\n",
            "|         US|   10225065| RL5LNO26GAVJ1|B009PJRMHQ|     694166585|Kmise 1pc Pickgua...|Musical Instruments|          2|            3|          4|   N|                Y|Will not Fit Epip...|Note- Does not Fi...|2015-08-31 00:00:00|\n",
            "|         US|    6356995|R3GYQ5W8JHP8SB|B00NKBDAZS|     446431775|Kealoha Concert U...|Musical Instruments|          5|            0|          0|   N|                Y|          Five Stars|Well built Ukulel...|2015-08-31 00:00:00|\n",
            "|         US|   35297198|R30SHYQXGG5EYC|B006MIU7U2|     125871705|Halco 80000 - MR1...|Musical Instruments|          5|            0|          0|   N|                Y|Works fine. Hope ...|Had to replace a ...|2015-08-31 00:00:00|\n",
            "|         US|   32139520|R14YLXA56NP51I|B000FIBD0I|     771888534|Gator GPTBLACK Pl...|Musical Instruments|          5|            1|          1|   N|                N|I upgraded the po...|I've owned multip...|2015-08-31 00:00:00|\n",
            "|         US|   36060782|R1ZH0HSH38IOTZ|B0002E52GG|      68535945|Hetman 1 - Light ...|Musical Instruments|          5|            0|          0|   N|                Y|My son's favourit...|Consistent qualit...|2015-08-31 00:00:00|\n",
            "|         US|    5301309|R3H53KLLC210XI|B00RZIH52G|     725541773|Dragonpad pop fil...|Musical Instruments|          4|            0|          0|   N|                Y|Great pop filter ...|by far the best p...|2015-08-31 00:00:00|\n",
            "|         US|   37472935|R3OOR877NGA8JK|B001792BAU|      46570323|DharmaObjects Rel...|Musical Instruments|          3|            0|          0|   N|                Y|                  Ok|Beautiful set. On...|2015-08-31 00:00:00|\n",
            "|         US|   33578270|R1BY7WKOZ3KMH0|B009GSKW1Y|     547963417|Musiclily SSS Pla...|Musical Instruments|          2|            0|          0|   N|                Y|           Two Stars|Bridge pickup was...|2015-08-31 00:00:00|\n",
            "|         US|   22070226| RXP1TFSWE8EG9|B0002F4TKA|     436074323|Vic Firth America...|Musical Instruments|          5|            0|          0|   N|                Y|          Five Stars|Feels good and la...|2015-08-31 00:00:00|\n",
            "|         US|   52862655|R3J44DPP12OTLJ|B00K17YFBW|      81933093|Guitar Stand for ...|Musical Instruments|          5|            0|          0|   N|                Y|Great stand... on...|I love the stand....|2015-08-31 00:00:00|\n",
            "|         US|    4427243| RFOV69SK0T676|B00EQ24HJS|     669249276|Generic 3PLY Faux...|Musical Instruments|          5|            0|          0|   N|                Y|Looks great. You ...|On time. Looks gr...|2015-08-31 00:00:00|\n",
            "|         US|   14108571|R2HUWDNW62FOL3|B00IBOYTUE|     749537231|Audio 2000 6525 3...|Musical Instruments|          1|            0|          0|   N|                Y|  Poor sound quality|I was hoping it w...|2015-08-31 00:00:00|\n",
            "|         US|   27314089|R1KSU30XZGR452|B00FBRUSAE|     792472601|Sawtooth ST-AMP-1...|Musical Instruments|          5|            0|          0|   N|                Y|Perfect for the b...|Good sound for it...|2015-08-31 00:00:00|\n",
            "|         US|   16735445|R2TZVLLTSHA07N|B0113D2QUO|     269114019|Upado Unlimited G...|Musical Instruments|          5|            1|          1|   N|                Y|It really is a mu...|Wow! I didn't exp...|2015-08-31 00:00:00|\n",
            "+-----------+-----------+--------------+----------+--------------+--------------------+-------------------+-----------+-------------+-----------+----+-----------------+--------------------+--------------------+-------------------+\n",
            "only showing top 20 rows\n",
            "\n"
          ]
        }
      ]
    },
    {
      "cell_type": "code",
      "source": [
        "# Create the vine_table DataFrame\n",
        "vine_df = df.select(['review_id', 'star_rating', 'helpful_votes', 'total_votes', 'vine', 'verified_purchase'])\n",
        "vine_df.show()"
      ],
      "metadata": {
        "colab": {
          "base_uri": "https://localhost:8080/"
        },
        "id": "lqjkDDc3SMGI",
        "outputId": "21e9d4da-bb7c-4402-984e-9990ed9d89c7"
      },
      "execution_count": 28,
      "outputs": [
        {
          "output_type": "stream",
          "name": "stdout",
          "text": [
            "+--------------+-----------+-------------+-----------+----+-----------------+\n",
            "|     review_id|star_rating|helpful_votes|total_votes|vine|verified_purchase|\n",
            "+--------------+-----------+-------------+-----------+----+-----------------+\n",
            "| RMDCHWD0Y5OZ9|          3|            0|          1|   N|                N|\n",
            "| RZSL0BALIYUNU|          5|            0|          0|   N|                Y|\n",
            "| RIZR67JKUDBI0|          3|            0|          1|   N|                Y|\n",
            "|R27HL570VNL85F|          5|            0|          0|   N|                Y|\n",
            "|R34EBU9QDWJ1GD|          5|            0|          0|   N|                Y|\n",
            "|R1WCUI4Z1SIQEO|          5|            0|          0|   N|                N|\n",
            "| RL5LNO26GAVJ1|          2|            3|          4|   N|                Y|\n",
            "|R3GYQ5W8JHP8SB|          5|            0|          0|   N|                Y|\n",
            "|R30SHYQXGG5EYC|          5|            0|          0|   N|                Y|\n",
            "|R14YLXA56NP51I|          5|            1|          1|   N|                N|\n",
            "|R1ZH0HSH38IOTZ|          5|            0|          0|   N|                Y|\n",
            "|R3H53KLLC210XI|          4|            0|          0|   N|                Y|\n",
            "|R3OOR877NGA8JK|          3|            0|          0|   N|                Y|\n",
            "|R1BY7WKOZ3KMH0|          2|            0|          0|   N|                Y|\n",
            "| RXP1TFSWE8EG9|          5|            0|          0|   N|                Y|\n",
            "|R3J44DPP12OTLJ|          5|            0|          0|   N|                Y|\n",
            "| RFOV69SK0T676|          5|            0|          0|   N|                Y|\n",
            "|R2HUWDNW62FOL3|          1|            0|          0|   N|                Y|\n",
            "|R1KSU30XZGR452|          5|            0|          0|   N|                Y|\n",
            "|R2TZVLLTSHA07N|          5|            1|          1|   N|                Y|\n",
            "+--------------+-----------+-------------+-----------+----+-----------------+\n",
            "only showing top 20 rows\n",
            "\n"
          ]
        }
      ]
    },
    {
      "cell_type": "code",
      "source": [
        "# 1. Filter data and create new DataFrame to retrieve all rows where the total_votes count is equal to or greater than 20\n",
        "filtered_df = vine_df.filter('total_votes>=20')\n",
        "filtered_df.show()"
      ],
      "metadata": {
        "colab": {
          "base_uri": "https://localhost:8080/"
        },
        "id": "M_kOX7R_DL-m",
        "outputId": "5addfcd3-008b-4596-c6fe-515f2e90dadb"
      },
      "execution_count": 29,
      "outputs": [
        {
          "output_type": "stream",
          "name": "stdout",
          "text": [
            "+--------------+-----------+-------------+-----------+----+-----------------+\n",
            "|     review_id|star_rating|helpful_votes|total_votes|vine|verified_purchase|\n",
            "+--------------+-----------+-------------+-----------+----+-----------------+\n",
            "|R2243Y3OD8U6KQ|          5|           47|         61|   N|                N|\n",
            "|R2TGT0CDTCAAHW|          5|           21|         23|   N|                Y|\n",
            "| RX4D22YSXEF4P|          1|           37|         38|   N|                Y|\n",
            "|R3FL2NTLFUSPTQ|          5|           33|         37|   N|                N|\n",
            "|R3QTP3YNZXAPPF|          3|           23|         24|   N|                Y|\n",
            "|R36V6V42VN5AS5|          5|           34|         37|   N|                Y|\n",
            "|R27LZWE27BJPOB|          5|           22|         23|   N|                N|\n",
            "|  RMRD6SMF2AUQ|          3|            4|         21|   N|                N|\n",
            "| RMPCXKWX3T57Y|          1|            1|         73|   N|                N|\n",
            "|R1P7GJ0IN2BRNH|          5|           37|         37|   N|                Y|\n",
            "|R2R6JPF9KOD2HJ|          5|           19|         20|   N|                Y|\n",
            "|R3JM8Z4SP9N3H2|          1|            4|         23|   N|                N|\n",
            "|R2J0ZZGFXKM8KR|          2|           21|         22|   N|                Y|\n",
            "|R238ZSG6TSUBNX|          5|           27|         27|   N|                Y|\n",
            "|R37WGVXA94D62S|          2|            4|         20|   N|                Y|\n",
            "| RC6Y8GYIQZ8YU|          3|           72|         85|   N|                Y|\n",
            "| RFL3TJED8C240|          5|           13|         24|   N|                N|\n",
            "|R3D4P7A8Q1C70F|          5|           22|         27|   N|                Y|\n",
            "|R3PRNAQVQBB9M6|          1|           21|         30|   N|                Y|\n",
            "|R2NTTIW5KBKLYG|          5|           19|         20|   N|                N|\n",
            "+--------------+-----------+-------------+-----------+----+-----------------+\n",
            "only showing top 20 rows\n",
            "\n"
          ]
        }
      ]
    },
    {
      "cell_type": "code",
      "source": [
        "# 2. Filter the new DataFrame created in Step 1 and create a new DataFrame to retrieve all the rows where the number of helpful_votes\n",
        "# divided by total_votes is equal to or greater than 50%\n",
        "helpful_votes_df = filtered_df.filter(df['helpful_votes']/df['total_votes'] >= 0.5)\n",
        "helpful_votes_df.show()"
      ],
      "metadata": {
        "colab": {
          "base_uri": "https://localhost:8080/"
        },
        "id": "o_7hVjoIDj2A",
        "outputId": "892306ae-7287-420d-9259-321b302c4a99"
      },
      "execution_count": 30,
      "outputs": [
        {
          "output_type": "stream",
          "name": "stdout",
          "text": [
            "+--------------+-----------+-------------+-----------+----+-----------------+\n",
            "|     review_id|star_rating|helpful_votes|total_votes|vine|verified_purchase|\n",
            "+--------------+-----------+-------------+-----------+----+-----------------+\n",
            "|R2243Y3OD8U6KQ|          5|           47|         61|   N|                N|\n",
            "|R2TGT0CDTCAAHW|          5|           21|         23|   N|                Y|\n",
            "| RX4D22YSXEF4P|          1|           37|         38|   N|                Y|\n",
            "|R3FL2NTLFUSPTQ|          5|           33|         37|   N|                N|\n",
            "|R3QTP3YNZXAPPF|          3|           23|         24|   N|                Y|\n",
            "|R36V6V42VN5AS5|          5|           34|         37|   N|                Y|\n",
            "|R27LZWE27BJPOB|          5|           22|         23|   N|                N|\n",
            "|R1P7GJ0IN2BRNH|          5|           37|         37|   N|                Y|\n",
            "|R2R6JPF9KOD2HJ|          5|           19|         20|   N|                Y|\n",
            "|R2J0ZZGFXKM8KR|          2|           21|         22|   N|                Y|\n",
            "|R238ZSG6TSUBNX|          5|           27|         27|   N|                Y|\n",
            "| RC6Y8GYIQZ8YU|          3|           72|         85|   N|                Y|\n",
            "| RFL3TJED8C240|          5|           13|         24|   N|                N|\n",
            "|R3D4P7A8Q1C70F|          5|           22|         27|   N|                Y|\n",
            "|R3PRNAQVQBB9M6|          1|           21|         30|   N|                Y|\n",
            "|R2NTTIW5KBKLYG|          5|           19|         20|   N|                N|\n",
            "|R3JNDLZ3KACRLG|          5|           29|         33|   N|                N|\n",
            "|R1PVVYYY0Q1HZ0|          5|           21|         21|   N|                Y|\n",
            "|R1R9RU7JW0MFR2|          4|           20|         23|   Y|                N|\n",
            "|R1G9N0CW2982PA|          5|           21|         24|   N|                Y|\n",
            "+--------------+-----------+-------------+-----------+----+-----------------+\n",
            "only showing top 20 rows\n",
            "\n"
          ]
        }
      ]
    },
    {
      "cell_type": "code",
      "source": [
        "# Confirm the above table by adding a \"helpful_votes/total_votes\" column\n",
        "helpful_votes_df2 = vine_df.withColumn('helpful_votes/total_votes', vine_df['helpful_votes']/vine_df['total_votes'] >= 0.5)\n",
        "helpful_votes_df2 = helpful_votes_df2.filter(helpful_votes_df2['helpful_votes']/helpful_votes_df2['total_votes'] >= 0.5)\n",
        "helpful_votes_df2.show()"
      ],
      "metadata": {
        "colab": {
          "base_uri": "https://localhost:8080/"
        },
        "id": "unJBUnBoEmC7",
        "outputId": "47764ef4-6155-4aa3-ba78-85a1fbf9208f"
      },
      "execution_count": 32,
      "outputs": [
        {
          "output_type": "stream",
          "name": "stdout",
          "text": [
            "+--------------+-----------+-------------+-----------+----+-----------------+-------------------------+\n",
            "|     review_id|star_rating|helpful_votes|total_votes|vine|verified_purchase|helpful_votes/total_votes|\n",
            "+--------------+-----------+-------------+-----------+----+-----------------+-------------------------+\n",
            "| RL5LNO26GAVJ1|          2|            3|          4|   N|                Y|                     true|\n",
            "|R14YLXA56NP51I|          5|            1|          1|   N|                N|                     true|\n",
            "|R2TZVLLTSHA07N|          5|            1|          1|   N|                Y|                     true|\n",
            "|R2EFSVA4ZDWLN4|          5|            2|          2|   N|                Y|                     true|\n",
            "|R2243Y3OD8U6KQ|          5|           47|         61|   N|                N|                     true|\n",
            "|R1G8LGJMUY210N|          5|            1|          2|   N|                Y|                     true|\n",
            "|R1YJXOSQ36ZOR9|          5|            1|          1|   N|                N|                     true|\n",
            "|R2N29Z13SBTWB0|          5|            1|          1|   N|                Y|                     true|\n",
            "|R1L267LIY95CPB|          5|           10|         11|   N|                N|                     true|\n",
            "|R2ZH0JLHNFWBTB|          5|            1|          1|   N|                Y|                     true|\n",
            "| RJM45NORR02B3|          1|            2|          2|   N|                Y|                     true|\n",
            "|R2NWJ89IHQXYNB|          5|            1|          1|   N|                Y|                     true|\n",
            "|R1BFDCGZCSKP77|          2|            1|          1|   N|                Y|                     true|\n",
            "|R2GG2DBDURJPQQ|          5|            1|          2|   N|                Y|                     true|\n",
            "| RPZHAM1T3RMDU|          5|            6|          7|   N|                Y|                     true|\n",
            "|R2TGT0CDTCAAHW|          5|           21|         23|   N|                Y|                     true|\n",
            "|R1D7XWOV7I3FF5|          5|            1|          1|   N|                Y|                     true|\n",
            "|R2PSXVRYG9WHVM|          5|            1|          1|   N|                Y|                     true|\n",
            "|R2QS6A17WBF2JB|          2|            1|          1|   N|                Y|                     true|\n",
            "|R2WDZPS4FXEYKW|          5|            6|          6|   N|                Y|                     true|\n",
            "+--------------+-----------+-------------+-----------+----+-----------------+-------------------------+\n",
            "only showing top 20 rows\n",
            "\n"
          ]
        }
      ]
    },
    {
      "cell_type": "code",
      "source": [
        "# 3. Filter the DataFrame created in Step 2 and create a new DataFrame that retrieves all the rows where a review was written as part of\n",
        "# the Vine program (paid), vine == 'Y'\n",
        "vine_paid_df = helpful_votes_df.filter(helpful_votes_df['vine'] == 'Y')\n",
        "vine_paid_df.show()"
      ],
      "metadata": {
        "colab": {
          "base_uri": "https://localhost:8080/"
        },
        "id": "88sqyL0fGYFS",
        "outputId": "c8aa1dbc-4749-4085-ca1b-23ede0367168"
      },
      "execution_count": 33,
      "outputs": [
        {
          "output_type": "stream",
          "name": "stdout",
          "text": [
            "+--------------+-----------+-------------+-----------+----+-----------------+\n",
            "|     review_id|star_rating|helpful_votes|total_votes|vine|verified_purchase|\n",
            "+--------------+-----------+-------------+-----------+----+-----------------+\n",
            "|R1R9RU7JW0MFR2|          4|           20|         23|   Y|                N|\n",
            "|R19EFYNN3W8Q07|          5|           26|         32|   Y|                N|\n",
            "|R34DJ1R8AEU0SG|          5|           29|         35|   Y|                N|\n",
            "|R25P5CXK5L9RHF|          5|          146|        161|   Y|                N|\n",
            "|R2E9VZB3I4LSN5|          5|           55|         59|   Y|                N|\n",
            "| RKYLHZL7EPELX|          4|           19|         25|   Y|                N|\n",
            "|R1U13EKGQD3ZE6|          5|           22|         25|   Y|                N|\n",
            "| RYW05F1MUEF01|          5|           87|        102|   Y|                N|\n",
            "|R2SW4NXNO7HZJ5|          4|           28|         33|   Y|                N|\n",
            "|R2016NFLSUR97Y|          2|           26|         37|   Y|                N|\n",
            "| RFCV9QXJ3D79X|          3|           20|         22|   Y|                N|\n",
            "|R36779ZAY4ZT0Y|          3|           46|         50|   Y|                N|\n",
            "|R13PPTBWWV10Q6|          5|           19|         25|   Y|                N|\n",
            "|R2A3FFNJTDUBMV|          5|           20|         27|   Y|                N|\n",
            "|R3QQG4HUB214TM|          5|          111|        128|   Y|                N|\n",
            "|R3J9OSJNJB7KGM|          5|           70|         80|   Y|                N|\n",
            "| RIMYDUAAFXY2U|          5|           22|         23|   Y|                N|\n",
            "|R22CYBPLKWDK6F|          5|           47|         54|   Y|                N|\n",
            "|R1ETBDZ1LJ8CEL|          4|           28|         32|   Y|                N|\n",
            "|R28T5ISQ8AA7E5|          5|           40|         42|   Y|                N|\n",
            "+--------------+-----------+-------------+-----------+----+-----------------+\n",
            "only showing top 20 rows\n",
            "\n"
          ]
        }
      ]
    },
    {
      "cell_type": "code",
      "source": [
        "# Repeat Step 3, but this time retrieve all the rows where the review was not part of the Vine program (unpaid), vine == 'N'\n",
        "vine_unpaid_df = helpful_votes_df.filter(helpful_votes_df['vine'] == 'N')\n",
        "vine_unpaid_df.show()"
      ],
      "metadata": {
        "colab": {
          "base_uri": "https://localhost:8080/"
        },
        "id": "ubFxxiFAGzwA",
        "outputId": "28b221ae-aa1e-4b2e-ca99-f04a4cd29961"
      },
      "execution_count": 34,
      "outputs": [
        {
          "output_type": "stream",
          "name": "stdout",
          "text": [
            "+--------------+-----------+-------------+-----------+----+-----------------+\n",
            "|     review_id|star_rating|helpful_votes|total_votes|vine|verified_purchase|\n",
            "+--------------+-----------+-------------+-----------+----+-----------------+\n",
            "|R2243Y3OD8U6KQ|          5|           47|         61|   N|                N|\n",
            "|R2TGT0CDTCAAHW|          5|           21|         23|   N|                Y|\n",
            "| RX4D22YSXEF4P|          1|           37|         38|   N|                Y|\n",
            "|R3FL2NTLFUSPTQ|          5|           33|         37|   N|                N|\n",
            "|R3QTP3YNZXAPPF|          3|           23|         24|   N|                Y|\n",
            "|R36V6V42VN5AS5|          5|           34|         37|   N|                Y|\n",
            "|R27LZWE27BJPOB|          5|           22|         23|   N|                N|\n",
            "|R1P7GJ0IN2BRNH|          5|           37|         37|   N|                Y|\n",
            "|R2R6JPF9KOD2HJ|          5|           19|         20|   N|                Y|\n",
            "|R2J0ZZGFXKM8KR|          2|           21|         22|   N|                Y|\n",
            "|R238ZSG6TSUBNX|          5|           27|         27|   N|                Y|\n",
            "| RC6Y8GYIQZ8YU|          3|           72|         85|   N|                Y|\n",
            "| RFL3TJED8C240|          5|           13|         24|   N|                N|\n",
            "|R3D4P7A8Q1C70F|          5|           22|         27|   N|                Y|\n",
            "|R3PRNAQVQBB9M6|          1|           21|         30|   N|                Y|\n",
            "|R2NTTIW5KBKLYG|          5|           19|         20|   N|                N|\n",
            "|R3JNDLZ3KACRLG|          5|           29|         33|   N|                N|\n",
            "|R1PVVYYY0Q1HZ0|          5|           21|         21|   N|                Y|\n",
            "|R1G9N0CW2982PA|          5|           21|         24|   N|                Y|\n",
            "|R2N8ZFHQBWHMDL|          2|           26|         28|   N|                Y|\n",
            "+--------------+-----------+-------------+-----------+----+-----------------+\n",
            "only showing top 20 rows\n",
            "\n"
          ]
        }
      ]
    },
    {
      "cell_type": "code",
      "source": [
        "# Step 5: Total Number of Reviews\n",
        "# Get row count\n",
        "rows = helpful_votes_df.count()\n",
        "print(f\"DataFrame Rows count : {rows}\")"
      ],
      "metadata": {
        "colab": {
          "base_uri": "https://localhost:8080/"
        },
        "id": "FRcuf9RxHZGm",
        "outputId": "70121f0c-0e08-4659-dbf7-edc1d74bfb29"
      },
      "execution_count": 35,
      "outputs": [
        {
          "output_type": "stream",
          "name": "stdout",
          "text": [
            "DataFrame Rows count : 14537\n"
          ]
        }
      ]
    },
    {
      "cell_type": "code",
      "source": [
        "# Number of 5-star reviews\n",
        "five_star_reviews = helpful_votes_df.filter(helpful_votes_df['star_rating'] == 5).count()\n",
        "print(f\"There are {five_star_reviews} 5-star reviews.\")"
      ],
      "metadata": {
        "colab": {
          "base_uri": "https://localhost:8080/"
        },
        "id": "e6JxhR40INHA",
        "outputId": "b8ebac7b-4689-48de-a6f5-e330e41ef133"
      },
      "execution_count": 36,
      "outputs": [
        {
          "output_type": "stream",
          "name": "stdout",
          "text": [
            "There are 8246 5-star reviews.\n"
          ]
        }
      ]
    },
    {
      "cell_type": "code",
      "source": [
        "# Number of paid and unpaid (overall)\n",
        "paid = vine_paid_df.count()\n",
        "unpaid = vine_unpaid_df.count()\n",
        "print(f\"There are {paid} paid reviews and {unpaid} unpaid reviews.\")"
      ],
      "metadata": {
        "colab": {
          "base_uri": "https://localhost:8080/"
        },
        "id": "OHryqZaKJE_p",
        "outputId": "2f86e041-094f-416d-d079-b9d081acf1fc"
      },
      "execution_count": 37,
      "outputs": [
        {
          "output_type": "stream",
          "name": "stdout",
          "text": [
            "There are 60 paid reviews and 14477 unpaid reviews.\n"
          ]
        }
      ]
    },
    {
      "cell_type": "code",
      "source": [
        "# Number of paid and unpaid (five star reviews)\n",
        "five_star_paid = vine_paid_df.filter(vine_paid_df['star_rating'] == 5).count()\n",
        "five_star_unpaid = vine_unpaid_df.filter(vine_unpaid_df['star_rating'] == 5).count()\n",
        "print(f\"There are {five_star_paid} paid 5-star reviews and {five_star_unpaid} unpaid 5-star reviews.\")"
      ],
      "metadata": {
        "colab": {
          "base_uri": "https://localhost:8080/"
        },
        "id": "2Fpe-qWmK3Nu",
        "outputId": "1af0937c-559f-4594-877d-f8012a9bfddd"
      },
      "execution_count": 38,
      "outputs": [
        {
          "output_type": "stream",
          "name": "stdout",
          "text": [
            "There are 34 paid 5-star reviews and 8212 unpaid 5-star reviews.\n"
          ]
        }
      ]
    },
    {
      "cell_type": "code",
      "source": [
        "# Determine the percentage of 5-star reviews for the two types of review (paid vs unpaid)\n",
        "five_star_paid_percent = five_star_paid/five_star_reviews * 100\n",
        "five_star_unpaid_percent = five_star_unpaid/five_star_reviews * 100\n",
        "print(f\"{five_star_paid_percent}% of 5 star reviews were paid and {five_star_unpaid_percent}% were unpaid.\")"
      ],
      "metadata": {
        "colab": {
          "base_uri": "https://localhost:8080/"
        },
        "id": "2iS9FY5sJhsJ",
        "outputId": "c61db8f1-33a3-4d24-81fb-5834a416886e"
      },
      "execution_count": 39,
      "outputs": [
        {
          "output_type": "stream",
          "name": "stdout",
          "text": [
            "0.41232112539413046% of 5 star reviews were paid and 99.58767887460587% were unpaid.\n"
          ]
        }
      ]
    }
  ]
}